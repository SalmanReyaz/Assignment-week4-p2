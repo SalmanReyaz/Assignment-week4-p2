{
 "cells": [
  {
   "cell_type": "markdown",
   "id": "f484973d",
   "metadata": {},
   "source": [
    "Q1. Explain Class and Object with respect to Object-Oriented Programming. Give a suitable example."
   ]
  },
  {
   "cell_type": "code",
   "execution_count": null,
   "id": "f6d2701c",
   "metadata": {},
   "outputs": [],
   "source": [
    "Class:---- class is a blueprint for creating objects while an object is an instance of a class...\n",
    "    lets consider an example, \n",
    "                             We can think of the class as a sketch of a house. It contains all the details \n",
    "    about the floors, doors, windows, etc. Based on these descriptions we build the house. and House is the \"object\".\n",
    "\n",
    "\n",
    "\n",
    "Object:----An object is a real-world entity that has attributes([dogs]:-breeds,age,colour), behavior(eating,sleeping,barking), and properties"
   ]
  },
  {
   "cell_type": "code",
   "execution_count": 14,
   "id": "bfe52c23",
   "metadata": {},
   "outputs": [],
   "source": [
    "class vehicle:\n",
    "\n",
    "    \n",
    "     def __init__(self,make,model,year):\n",
    "        self.make = make\n",
    "        self.model = model\n",
    "        self.year = year\n",
    "        \n",
    "        \n",
    "        \n",
    "     def return_vehicle_details(self):\n",
    "        return self.make,self.model,self.year\n"
   ]
  },
  {
   "cell_type": "markdown",
   "id": "5c847c7d",
   "metadata": {},
   "source": [
    "in the above example we have defined a vehicle Class. It has three attr. \n",
    "(make,model,year)and methods (return_vehicle_details)\n",
    "to create an object of the vehicle class, we can do the following."
   ]
  },
  {
   "cell_type": "code",
   "execution_count": 17,
   "id": "8c2b8b5d",
   "metadata": {},
   "outputs": [],
   "source": [
    "car1 = vehicle(\"ford\",120,95)\n",
    "car2 = vehicle(\"sedan\",110,60)"
   ]
  },
  {
   "cell_type": "code",
   "execution_count": 18,
   "id": "a048dfb9",
   "metadata": {},
   "outputs": [
    {
     "data": {
      "text/plain": [
       "('ford', 120, 95)"
      ]
     },
     "execution_count": 18,
     "metadata": {},
     "output_type": "execute_result"
    }
   ],
   "source": [
    "car1.return_vehicle_details()"
   ]
  },
  {
   "cell_type": "code",
   "execution_count": 19,
   "id": "e9547e9b",
   "metadata": {},
   "outputs": [
    {
     "data": {
      "text/plain": [
       "('sedan', 110, 60)"
      ]
     },
     "execution_count": 19,
     "metadata": {},
     "output_type": "execute_result"
    }
   ],
   "source": [
    "car2.return_vehicle_details()"
   ]
  },
  {
   "cell_type": "code",
   "execution_count": null,
   "id": "585b439c",
   "metadata": {},
   "outputs": [],
   "source": []
  },
  {
   "cell_type": "markdown",
   "id": "3c05cf95",
   "metadata": {},
   "source": [
    "          __👆👆👆👆👆___\n",
    "__In this case we have created two instances of the 'vehicle' class. car1 and car2..Here car1.return_vehicle_details() and \n",
    "car2.return_vehicle_details() of the objects__"
   ]
  },
  {
   "cell_type": "markdown",
   "id": "1fcb99ae",
   "metadata": {},
   "source": [
    "__Q2. Name the four pillars of OOPs__"
   ]
  },
  {
   "cell_type": "markdown",
   "id": "af36dec9",
   "metadata": {},
   "source": [
    "# Here is the four pillars of  OOPs\n",
    "\n",
    "__(a) Polymorphism__\n",
    "\n",
    "\n",
    "__(b) Encapsulation__\n",
    "\n",
    "\n",
    "__(c) Inheritance__\n",
    "\n",
    "\n",
    "__(d) Abstraction__\n",
    "\n"
   ]
  },
  {
   "cell_type": "code",
   "execution_count": null,
   "id": "869c2a35",
   "metadata": {},
   "outputs": [],
   "source": []
  },
  {
   "cell_type": "markdown",
   "id": "a3007c6a",
   "metadata": {},
   "source": [
    "Q3. Explain why the __init__() function is used. Give a suitable example."
   ]
  },
  {
   "cell_type": "markdown",
   "id": "9ea268a4",
   "metadata": {},
   "source": [
    "ANS:- Init(Initialization)is a 'Constructor'and this is inbuilt funtion for any class use to help to the data in the class...\n"
   ]
  },
  {
   "cell_type": "code",
   "execution_count": 22,
   "id": "aba25c18",
   "metadata": {},
   "outputs": [],
   "source": [
    "class vehicle1:\n",
    "\n",
    "    \n",
    "     def __init__(self,make,model,year): \n",
    "        self.make = make\n",
    "        self.model = model\n",
    "        self.year = year\n",
    "        \n",
    "        \n",
    "        \n",
    "     def return_vehicle_details(self):\n",
    "        return self.make,self.model,self.year\n"
   ]
  },
  {
   "cell_type": "code",
   "execution_count": 25,
   "id": "dadafa37",
   "metadata": {},
   "outputs": [
    {
     "data": {
      "text/plain": [
       "('ford', 120, 95)"
      ]
     },
     "execution_count": 25,
     "metadata": {},
     "output_type": "execute_result"
    }
   ],
   "source": [
    "car1 = vehicle(\"ford\",120,95)\n",
    "car1.return_vehicle_details()\n",
    "\n"
   ]
  },
  {
   "cell_type": "code",
   "execution_count": null,
   "id": "f4202584",
   "metadata": {},
   "outputs": [],
   "source": []
  },
  {
   "cell_type": "markdown",
   "id": "d941bc22",
   "metadata": {},
   "source": [
    "Q4. Why self is used in OOPs?"
   ]
  },
  {
   "cell_type": "markdown",
   "id": "f7866fde",
   "metadata": {},
   "source": [
    "___self:---you have any class and if you access their variable \n",
    "    then you have to use it 'self'...and if you access any class variable then\n",
    "    without using 'self' you cannot use at any circumtances.\n",
    "    Because self is a pointer or give refrences provider.\n",
    "    example_____\n",
    "    \n",
    "    \n",
    "    \n",
    "    \n",
    "   # OR\n",
    "   \n",
    "   \n",
    "               SELF:---Self keyword is typically used as a refrence to the current instance of a class.\n",
    "               ex:- self.variable_name."
   ]
  },
  {
   "cell_type": "code",
   "execution_count": null,
   "id": "779d0bce",
   "metadata": {},
   "outputs": [],
   "source": []
  },
  {
   "cell_type": "raw",
   "id": "e18e6f54",
   "metadata": {},
   "source": [
    "Q5. What is inheritance? Give an example for each type of inheritance."
   ]
  },
  {
   "cell_type": "markdown",
   "id": "ebe84670",
   "metadata": {},
   "source": [
    "__Inheritance allows us to define a class that inherits all the methods and properties from another class___.\n",
    "\n",
    "___Parent class is the class being inherited from, also called base class__.\n",
    "\n",
    "__Child class is the class that inherits from another class, also called derived class___\n",
    "\n",
    "\n",
    "\n",
    "\n",
    "\n",
    "\n",
    "OR:-------------------------------\n",
    "\n",
    "\n",
    "The new class that is created is known as subclass (child class) and the existing class from which the child class is derived is known as superclass (parent class)."
   ]
  },
  {
   "cell_type": "markdown",
   "id": "f98f13fc",
   "metadata": {},
   "source": [
    "  ### There are Five types of Inheritance  \n",
    "\n",
    "\n",
    "__(a). Single Inheritance___\n",
    "\n",
    "\n",
    "__(b). Multiple Inheritance__\n",
    "\n",
    "__(c). Multilevel Inheritance__\n",
    "\n",
    "\n",
    "__(d). Hierarchial Inheritance__\n",
    "\n",
    "\n",
    "\n",
    "__(e). Hybrid Inheritance__"
   ]
  },
  {
   "cell_type": "code",
   "execution_count": null,
   "id": "b6ba0487",
   "metadata": {},
   "outputs": [],
   "source": []
  }
 ],
 "metadata": {
  "kernelspec": {
   "display_name": "Python 3 (ipykernel)",
   "language": "python",
   "name": "python3"
  },
  "language_info": {
   "codemirror_mode": {
    "name": "ipython",
    "version": 3
   },
   "file_extension": ".py",
   "mimetype": "text/x-python",
   "name": "python",
   "nbconvert_exporter": "python",
   "pygments_lexer": "ipython3",
   "version": "3.9.12"
  }
 },
 "nbformat": 4,
 "nbformat_minor": 5
}
